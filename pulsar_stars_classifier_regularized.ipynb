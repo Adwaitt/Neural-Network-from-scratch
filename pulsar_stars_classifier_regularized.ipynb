{
 "cells": [
  {
   "cell_type": "code",
   "execution_count": 1,
   "metadata": {},
   "outputs": [],
   "source": [
    "%reload_ext autoreload\n",
    "%autoreload 2\n",
    "%matplotlib inline"
   ]
  },
  {
   "cell_type": "code",
   "execution_count": 2,
   "metadata": {},
   "outputs": [],
   "source": [
    "import os\n",
    "os.chdir(r'----')"
   ]
  },
  {
   "cell_type": "code",
   "execution_count": 3,
   "metadata": {},
   "outputs": [],
   "source": [
    "import pandas as pd\n",
    "import numpy as np\n",
    "df = pd.read_csv(r'pulsar_stars.csv')"
   ]
  },
  {
   "cell_type": "code",
   "execution_count": 4,
   "metadata": {},
   "outputs": [],
   "source": [
    "names = [' Mean of the integrated profile', ' Mean of the DM-SNR curve', ' Standard deviation of the DM-SNR curve', ' Skewness of the DM-SNR curve']\n",
    "for name in names:\n",
    "    df[name] = (df[name] - np.mean(df[name]))/np.std(df[name])"
   ]
  },
  {
   "cell_type": "code",
   "execution_count": 5,
   "metadata": {},
   "outputs": [],
   "source": [
    "X = df[[' Mean of the integrated profile',\n",
    "       ' Standard deviation of the integrated profile',\n",
    "       ' Excess kurtosis of the integrated profile',\n",
    "       ' Skewness of the integrated profile', ' Mean of the DM-SNR curve',\n",
    "       ' Standard deviation of the DM-SNR curve',\n",
    "       ' Excess kurtosis of the DM-SNR curve', ' Skewness of the DM-SNR curve']].values\n",
    "Y = df['target_class'].values\n",
    "Y = Y.reshape(-1, 1)"
   ]
  },
  {
   "cell_type": "code",
   "execution_count": 6,
   "metadata": {},
   "outputs": [],
   "source": [
    "from sklearn.model_selection import train_test_split\n",
    "x, xt, y, yt = train_test_split(X, Y, test_size = 0.05, random_state = 37)\n",
    "x, xt, y, yt = x.T, xt.T, y.T, yt.T"
   ]
  },
  {
   "cell_type": "code",
   "execution_count": 31,
   "metadata": {},
   "outputs": [],
   "source": [
    "def iniparams(layer_dims):\n",
    "    params = {}\n",
    "    np.random.seed(1)\n",
    "    for l in range(1, len(layer_dims)):\n",
    "        params['W' + str(l)] = np.random.randn(layer_dims[l], layer_dims[l - 1])*np.sqrt(2/layer_dims[l - 1])\n",
    "        params['b' + str(l)] = np.zeros((layer_dims[l], 1))\n",
    "    return params"
   ]
  },
  {
   "cell_type": "code",
   "execution_count": 8,
   "metadata": {},
   "outputs": [],
   "source": [
    "def linearfwd(W, A, b):\n",
    "    Z = np.dot(W, A) + b\n",
    "    cache = (W, A, b)\n",
    "    return Z, cache"
   ]
  },
  {
   "cell_type": "code",
   "execution_count": 9,
   "metadata": {},
   "outputs": [],
   "source": [
    "def relu(Z):\n",
    "    return np.maximum(0, Z), Z"
   ]
  },
  {
   "cell_type": "code",
   "execution_count": 10,
   "metadata": {},
   "outputs": [],
   "source": [
    "def sigmoid(Z):\n",
    "    return 1/(1 + np.exp(-Z)), Z"
   ]
  },
  {
   "cell_type": "code",
   "execution_count": 11,
   "metadata": {},
   "outputs": [],
   "source": [
    "def fwdactivation(W, A_prev, b, activation):\n",
    "    if activation == 'relu':\n",
    "        Z, linear_cache = linearfwd(W, A_prev, b)\n",
    "        A, activation_cache = relu(Z)\n",
    "    elif activation == 'sigmoid':\n",
    "        Z, linear_cache = linearfwd(W, A_prev, b)\n",
    "        A, activation_cache = sigmoid(Z)\n",
    "    cache = (linear_cache, activation_cache)\n",
    "    return A, cache"
   ]
  },
  {
   "cell_type": "code",
   "execution_count": 12,
   "metadata": {},
   "outputs": [],
   "source": [
    "def fwdmodel(x, params):\n",
    "    caches = []\n",
    "    A = x\n",
    "    L = len(params)//2\n",
    "    for l in range(1, L):\n",
    "        A_prev = A\n",
    "        A, cache = fwdactivation(params['W' + str(l)], A_prev, params['b' + str(l)], 'relu')\n",
    "        caches.append(cache)\n",
    "    AL, cache = fwdactivation(params['W' + str(L)], A, params['b' + str(L)], 'sigmoid')\n",
    "    caches.append(cache)\n",
    "    return AL, caches"
   ]
  },
  {
   "cell_type": "code",
   "execution_count": 13,
   "metadata": {},
   "outputs": [],
   "source": [
    "def J(AL, y, lambd, params):\n",
    "    m = y.shape[1]\n",
    "    cross_entropy_cost = np.sum(np.multiply(np.log(AL), y) + np.multiply(np.log(1 - AL), (1 - y)))\n",
    "    sum_square = 0\n",
    "    for l in (1, len(params)//2):\n",
    "        sum_square = np.sum(np.square(params['W' + str(l)]))\n",
    "    regularization_parameter = lambd*sum_square\n",
    "    regularized_cost = (cross_entropy_cost + regularization_parameter)/(2*m)\n",
    "    return -regularized_cost"
   ]
  },
  {
   "cell_type": "code",
   "execution_count": 14,
   "metadata": {},
   "outputs": [],
   "source": [
    "def linearbkwd(dZ, cache, lambd):\n",
    "    W, A_prev, b = cache\n",
    "    m = A_prev.shape[1]\n",
    "    dW = (np.dot(dZ, A_prev.T) + lambd*W)/m\n",
    "    dA_prev = np.dot(W.T, dZ)\n",
    "    db = np.sum(dZ, axis = 1, keepdims = True)/m\n",
    "    return dW, dA_prev, db"
   ]
  },
  {
   "cell_type": "code",
   "execution_count": 15,
   "metadata": {},
   "outputs": [],
   "source": [
    "def sigmoidbkwd(dA, cache):\n",
    "    Z = cache\n",
    "    s = 1/(1 + np.exp(-Z))\n",
    "    dZ = dA*s*(1 - s)\n",
    "    return dZ"
   ]
  },
  {
   "cell_type": "code",
   "execution_count": 16,
   "metadata": {},
   "outputs": [],
   "source": [
    "def relubkwd(dA, cache):\n",
    "    Z = cache\n",
    "    dZ = np.array(dA, copy = True)\n",
    "    dZ[Z < 0] = 0\n",
    "    return dZ"
   ]
  },
  {
   "cell_type": "code",
   "execution_count": 17,
   "metadata": {},
   "outputs": [],
   "source": [
    "def bkwdactivation(dA, cache, lambd, activation):\n",
    "    linear_cache, activation_cache = cache\n",
    "    if activation == 'sigmoid':\n",
    "        dZ = sigmoidbkwd(dA, activation_cache)\n",
    "        dW, dA_prev, db = linearbkwd(dZ, linear_cache, lambd)\n",
    "    elif activation == 'relu':\n",
    "        dZ = relubkwd(dA, activation_cache)\n",
    "        dW, dA_prev, db = linearbkwd(dZ, linear_cache, lambd)\n",
    "    return dW, dA_prev, db"
   ]
  },
  {
   "cell_type": "code",
   "execution_count": 18,
   "metadata": {},
   "outputs": [],
   "source": [
    "def bkwdmodel(AL, y, cache, lambd):\n",
    "    grads = {}\n",
    "    L = len(cache)\n",
    "    current_cache = cache[L - 1]\n",
    "    dAL = -(np.divide(y, AL) - np.divide(1 - y,1 - AL))\n",
    "    grads['dW' + str(L)], grads['dA' + str(L - 1)], grads['db' + str(L)] = bkwdactivation(dAL, current_cache, lambd, 'sigmoid')\n",
    "    for l in reversed(range(L - 1)):\n",
    "        current_cache = cache[l]\n",
    "        grads['dW' + str(l + 1)], grads['dA' + str(l)], grads['db' + str(l + 1)] = bkwdactivation(grads['dA' + str(l + 1)], current_cache, lambd, 'relu')\n",
    "    return grads"
   ]
  },
  {
   "cell_type": "code",
   "execution_count": 19,
   "metadata": {},
   "outputs": [],
   "source": [
    "def optimize(params, grads, alpha):\n",
    "    L = len(params)//2\n",
    "    for l in range(1, L + 1):\n",
    "        params['W' + str(l)] -= alpha*grads['dW' + str(l)]\n",
    "        params['b' + str(l)] -= alpha*grads['db' + str(l)]\n",
    "    return params"
   ]
  },
  {
   "cell_type": "code",
   "execution_count": 20,
   "metadata": {},
   "outputs": [],
   "source": [
    "import matplotlib.pyplot as plt"
   ]
  },
  {
   "cell_type": "code",
   "execution_count": 26,
   "metadata": {},
   "outputs": [],
   "source": [
    "def model(x, y, layer_dims, alpha, lambd, num_iters = 1000):\n",
    "    costs = []\n",
    "    params = iniparams(layer_dims)\n",
    "    for i in range(0, num_iters + 1):\n",
    "        AL, cache = fwdmodel(x, params)\n",
    "        cost = J(AL, y, lambd, params)\n",
    "        grads = bkwdmodel(AL, y, cache, lambd)\n",
    "        params = optimize(params, grads, alpha)\n",
    "        if i%100 == 0:\n",
    "            costs.append(cost)\n",
    "            print('The cost after', i, 'iterations is:', cost)\n",
    "    plt.title('Costs Vs Iterations')\n",
    "    plt.xlabel('Iterations')\n",
    "    plt.ylabel('Costs')\n",
    "    plt.plot(costs)\n",
    "    return params"
   ]
  },
  {
   "cell_type": "code",
   "execution_count": 33,
   "metadata": {},
   "outputs": [
    {
     "name": "stdout",
     "output_type": "stream",
     "text": [
      "The cost after 0 iterations is: 0.346398981258288\n",
      "The cost after 100 iterations is: 0.10593905296640756\n",
      "The cost after 200 iterations is: 0.08255822270045865\n",
      "The cost after 300 iterations is: 0.0714576395971208\n",
      "The cost after 400 iterations is: 0.06171562294955684\n",
      "The cost after 500 iterations is: 0.05836386309779652\n",
      "The cost after 600 iterations is: 0.055040673011904885\n",
      "The cost after 700 iterations is: 0.0552280936387981\n",
      "The cost after 800 iterations is: 0.05383747746805659\n",
      "The cost after 900 iterations is: 0.053644158579020086\n",
      "The cost after 1000 iterations is: 0.05219837006569193\n",
      "The cost after 1100 iterations is: 0.05096860452872494\n",
      "The cost after 1200 iterations is: 0.05032632801458962\n",
      "The cost after 1300 iterations is: 0.049700964171605834\n",
      "The cost after 1400 iterations is: 0.04877826665751426\n",
      "The cost after 1500 iterations is: 0.04831346676831962\n",
      "The cost after 1600 iterations is: 0.04762245615313667\n",
      "The cost after 1700 iterations is: 0.04743711316830847\n",
      "The cost after 1800 iterations is: 0.04740012602629572\n",
      "The cost after 1900 iterations is: 0.047120680454130856\n",
      "The cost after 2000 iterations is: 0.0468571156630078\n",
      "The cost after 2100 iterations is: 0.0465391908449556\n",
      "The cost after 2200 iterations is: 0.04605116770418499\n",
      "The cost after 2300 iterations is: 0.04610359091607378\n",
      "The cost after 2400 iterations is: 0.04595247686073792\n",
      "The cost after 2500 iterations is: 0.04563043937891095\n",
      "The cost after 2600 iterations is: 0.045612252490251304\n",
      "The cost after 2700 iterations is: 0.04551210386545283\n",
      "The cost after 2800 iterations is: 0.04540430385212255\n",
      "The cost after 2900 iterations is: 0.04527057323584356\n",
      "The cost after 3000 iterations is: 0.04517566336543657\n"
     ]
    },
    {
     "data": {
      "image/png": "[encoded data removed]",
      "text/plain": [
       "<Figure size 432x288 with 1 Axes>"
      ]
     },
     "metadata": {
      "needs_background": "light"
     },
     "output_type": "display_data"
    }
   ],
   "source": [
    "params = model(x, y, [8, 4, 3, 2, 1], 0.1, 2)"
   ]
  },
  {
   "cell_type": "code",
   "execution_count": 34,
   "metadata": {},
   "outputs": [],
   "source": [
    "def predict(x, params):\n",
    "    AL, cache = fwdmodel(x, params)\n",
    "    predictions = AL >= 0.5\n",
    "    return AL, predictions"
   ]
  },
  {
   "cell_type": "code",
   "execution_count": 35,
   "metadata": {},
   "outputs": [
    {
     "name": "stdout",
     "output_type": "stream",
     "text": [
      "Accuracy: 98%\n"
     ]
    }
   ],
   "source": [
    "AL, predictions = predict(xt,params)\n",
    "print ('Accuracy: %d' % float((np.dot(yt,predictions.T) + np.dot(1-yt,1-predictions.T))/float(yt.size)*100)+ '%')\n",
    "predictions = predictions.astype('float')"
   ]
  }
 ],
 "metadata": {
  "kernelspec": {
   "display_name": "Python 3",
   "language": "python",
   "name": "python3"
  },
  "language_info": {
   "codemirror_mode": {
    "name": "ipython",
    "version": 3
   },
   "file_extension": ".py",
   "mimetype": "text/x-python",
   "name": "python",
   "nbconvert_exporter": "python",
   "pygments_lexer": "ipython3",
   "version": "3.8.3"
  }
 },
 "nbformat": 4,
 "nbformat_minor": 4
}
