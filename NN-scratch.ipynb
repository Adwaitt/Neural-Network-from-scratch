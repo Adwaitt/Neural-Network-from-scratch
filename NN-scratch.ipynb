{
 "cells": [
  {
   "cell_type": "code",
   "execution_count": 1,
   "metadata": {},
   "outputs": [],
   "source": [
    "%reload_ext autoreload\n",
    "%autoreload 2\n",
    "%matplotlib inline\n",
    "\n",
    "import matplotlib.pyplot as plt"
   ]
  },
  {
   "cell_type": "code",
   "execution_count": 2,
   "metadata": {},
   "outputs": [],
   "source": [
    "import os\n",
    "os.chdir(r'---')"
   ]
  },
  {
   "cell_type": "code",
   "execution_count": 3,
   "metadata": {},
   "outputs": [],
   "source": [
    "import pandas as pd\n",
    "import numpy as np\n",
    "df = pd.read_csv('clean_data.csv')"
   ]
  },
  {
   "cell_type": "code",
   "execution_count": 4,
   "metadata": {},
   "outputs": [],
   "source": [
    "names = ['area_mean', 'perimeter_mean', 'area_se', 'perimeter_worst', 'area_worst']"
   ]
  },
  {
   "cell_type": "code",
   "execution_count": 5,
   "metadata": {},
   "outputs": [],
   "source": [
    "for name in names:\n",
    "    df[name] = (df[name] - np.mean(df[name]))/np.std(df[name])"
   ]
  },
  {
   "cell_type": "code",
   "execution_count": 6,
   "metadata": {},
   "outputs": [],
   "source": [
    "X = df[['radius_mean', 'texture_mean', 'perimeter_mean',\n",
    "       'area_mean', 'smoothness_mean', 'compactness_mean', 'concavity_mean',\n",
    "       'concave points_mean', 'symmetry_mean', 'fractal_dimension_mean',\n",
    "       'radius_se', 'texture_se', 'perimeter_se', 'area_se', 'smoothness_se',\n",
    "       'compactness_se', 'concavity_se', 'concave points_se', 'symmetry_se',\n",
    "       'fractal_dimension_se', 'radius_worst', 'texture_worst',\n",
    "       'perimeter_worst', 'area_worst', 'smoothness_worst',\n",
    "       'compactness_worst', 'concavity_worst', 'concave points_worst',\n",
    "       'symmetry_worst', 'fractal_dimension_worst']].values\n",
    "Y = df['diagnosis'].values"
   ]
  },
  {
   "cell_type": "code",
   "execution_count": 7,
   "metadata": {},
   "outputs": [],
   "source": [
    "Y = Y.reshape(-1, 1)"
   ]
  },
  {
   "cell_type": "code",
   "execution_count": 8,
   "metadata": {},
   "outputs": [],
   "source": [
    "from sklearn.model_selection import train_test_split\n",
    "x, xt, y, yt = train_test_split(X, Y, test_size = 0.2, random_state = 30)\n",
    "x, xt, y, yt = x.T, xt.T, y.T, yt.T"
   ]
  },
  {
   "cell_type": "code",
   "execution_count": 9,
   "metadata": {},
   "outputs": [],
   "source": [
    "def iniparams(layer_dims):\n",
    "    params = {}\n",
    "    np.random.seed(1)\n",
    "    for l in range(1, len(layer_dims)):\n",
    "        params['W' + str(l)] = np.random.randn(layer_dims[l], layer_dims[l - 1])*np.sqrt(2/layer_dims[l - 1])\n",
    "        params['b' + str(l)] = np.zeros((layer_dims[l], 1))\n",
    "    return params"
   ]
  },
  {
   "cell_type": "code",
   "execution_count": 10,
   "metadata": {},
   "outputs": [],
   "source": [
    "def linearfwd(W, A, b):\n",
    "    Z = np.dot(W, A) + b\n",
    "    cache = (W, A, b)\n",
    "    return Z, cache"
   ]
  },
  {
   "cell_type": "code",
   "execution_count": 11,
   "metadata": {},
   "outputs": [],
   "source": [
    "def relu(Z):\n",
    "    return np.maximum(0, Z), Z"
   ]
  },
  {
   "cell_type": "code",
   "execution_count": 12,
   "metadata": {},
   "outputs": [],
   "source": [
    "def sigmoid(Z):\n",
    "    return 1/(1 + np.exp(-Z)), Z"
   ]
  },
  {
   "cell_type": "code",
   "execution_count": 13,
   "metadata": {},
   "outputs": [],
   "source": [
    "def fwdactivation(W, A_prev, b, activation):\n",
    "    if activation == 'relu':\n",
    "        Z, linear_cache = linearfwd(W, A_prev, b)\n",
    "        A, activation_cache = relu(Z)\n",
    "    elif activation == 'sigmoid':\n",
    "        Z, linear_cache = linearfwd(W, A_prev, b)\n",
    "        A, activation_cache = sigmoid(Z)\n",
    "    cache = (linear_cache, activation_cache)\n",
    "    return A, cache"
   ]
  },
  {
   "cell_type": "code",
   "execution_count": 14,
   "metadata": {},
   "outputs": [],
   "source": [
    "def fwdmodel(x, params):\n",
    "    caches = []\n",
    "    A = x\n",
    "    L = len(params)//2\n",
    "    for l in range(1, L):\n",
    "        A_prev = A\n",
    "        A, cache = fwdactivation(params['W' + str(l)], A_prev, params['b' + str(l)], 'relu')\n",
    "        caches.append(cache)\n",
    "    AL, cache = fwdactivation(params['W' + str(L)], A, params['b' + str(L)], 'sigmoid')\n",
    "    caches.append(cache)\n",
    "    return AL, caches"
   ]
  },
  {
   "cell_type": "code",
   "execution_count": 15,
   "metadata": {},
   "outputs": [],
   "source": [
    "def J(AL, y):\n",
    "    return -np.sum(np.multiply(np.log(AL), y) + np.multiply(np.log(1 - AL), (1 - y)))/(2*y.shape[1])"
   ]
  },
  {
   "cell_type": "code",
   "execution_count": 16,
   "metadata": {},
   "outputs": [],
   "source": [
    "def linearbkwd(dZ, cache):\n",
    "    W, A_prev, b = cache\n",
    "    m = A_prev.shape[1]\n",
    "    dW = np.dot(dZ, A_prev.T)/m\n",
    "    dA_prev = np.dot(W.T, dZ)\n",
    "    db = np.sum(dZ, axis = 1, keepdims = True)/m\n",
    "    return dW, dA_prev, db"
   ]
  },
  {
   "cell_type": "code",
   "execution_count": 17,
   "metadata": {},
   "outputs": [],
   "source": [
    "def sigmoidbkwd(dA, cache):\n",
    "    Z = cache\n",
    "    s = 1/(1 + np.exp(-Z))\n",
    "    dZ = dA*s*(1 - s)\n",
    "    return dZ"
   ]
  },
  {
   "cell_type": "code",
   "execution_count": 18,
   "metadata": {},
   "outputs": [],
   "source": [
    "def relubkwd(dA, cache):\n",
    "    Z = cache\n",
    "    dZ = np.array(dA ,copy = True)\n",
    "    dZ[Z < 0] = 0\n",
    "    return dZ"
   ]
  },
  {
   "cell_type": "code",
   "execution_count": 19,
   "metadata": {},
   "outputs": [],
   "source": [
    "def bkwdactivation(dA, cache, activation):\n",
    "    linear_cache, activation_cache = cache\n",
    "    if activation == 'sigmoid':\n",
    "        dZ = sigmoidbkwd(dA, activation_cache)\n",
    "        dW, dA_prev, db = linearbkwd(dZ, linear_cache)\n",
    "    elif activation == 'relu':\n",
    "        dZ = relubkwd(dA, activation_cache)\n",
    "        dW, dA_prev, db = linearbkwd(dZ, linear_cache)\n",
    "    return dW, dA_prev, db"
   ]
  },
  {
   "cell_type": "code",
   "execution_count": 20,
   "metadata": {},
   "outputs": [],
   "source": [
    "def bkwdmodel(AL, y, caches):\n",
    "    grads = {}\n",
    "    L = len(caches)\n",
    "    current_cache = caches[L - 1]\n",
    "    dAL = -(np.divide(y, AL) - np.divide(1 - y,1 - AL))\n",
    "    grads['dW' + str(L)], grads['dA' + str(L - 1)], grads['db' + str(L)] = bkwdactivation(dAL, current_cache, 'sigmoid')\n",
    "    for l in reversed(range(L - 1)):\n",
    "        current_cache = caches[l]\n",
    "        grads['dW' + str(l + 1)], grads['dA' + str(l)], grads['db' + str(l + 1)] = bkwdactivation(grads['dA' + str(l + 1)], current_cache, 'relu')\n",
    "    return grads"
   ]
  },
  {
   "cell_type": "code",
   "execution_count": 21,
   "metadata": {},
   "outputs": [],
   "source": [
    "def optimize(params, grads, alpha):\n",
    "    L = len(params)//2\n",
    "    for l in range(1, L + 1):\n",
    "        params['W' + str(l)] = params['W' + str(l)] - alpha*grads['dW' + str(l)]\n",
    "        params['b' + str(l)] = params['b' + str(l)] - alpha*grads['db' + str(l)]\n",
    "    return params"
   ]
  },
  {
   "cell_type": "code",
   "execution_count": 22,
   "metadata": {},
   "outputs": [],
   "source": [
    "def model(x, y, layer_dims, alpha, num_iters = 1000):\n",
    "    costs = []\n",
    "    params = iniparams(layer_dims)\n",
    "    for i in range(0, num_iters + 1):\n",
    "        AL, caches = fwdmodel(x, params)\n",
    "        cost = J(AL, y)\n",
    "        grads = bkwdmodel(AL, y, caches)\n",
    "        params = optimize(params, grads, alpha)\n",
    "        if i%100 == 0:\n",
    "            costs.append(cost)\n",
    "            print('The cost after', i, 'iterations is:', cost)\n",
    "    plt.title('Costs Vs Iterations')\n",
    "    plt.xlabel('Iterations')\n",
    "    plt.ylabel('Cost')\n",
    "    plt.plot(costs)\n",
    "    return params"
   ]
  },
  {
   "cell_type": "code",
   "execution_count": 23,
   "metadata": {},
   "outputs": [
    {
     "name": "stdout",
     "output_type": "stream",
     "text": [
      "The cost after 0 iterations is: 1.0787813951659844\n",
      "The cost after 100 iterations is: 0.30775089812259215\n",
      "The cost after 200 iterations is: 0.2862965100332521\n",
      "The cost after 300 iterations is: 0.26374244663725915\n",
      "The cost after 400 iterations is: 0.23709893975765883\n",
      "The cost after 500 iterations is: 0.2114011057231666\n",
      "The cost after 600 iterations is: 0.1940379648618708\n",
      "The cost after 700 iterations is: 0.1954910335940939\n",
      "The cost after 800 iterations is: 0.1797360326044156\n",
      "The cost after 900 iterations is: 0.1726068376646858\n",
      "The cost after 1000 iterations is: 0.16081801411713367\n"
     ]
    },
    {
     "data": {
      "image/png": "[encoded data removed]",
      "text/plain": [
       "<Figure size 432x288 with 1 Axes>"
      ]
     },
     "metadata": {
      "needs_background": "light"
     },
     "output_type": "display_data"
    }
   ],
   "source": [
    "params = model(x, y, [30, 5, 1], 0.01)"
   ]
  },
  {
   "cell_type": "code",
   "execution_count": 24,
   "metadata": {},
   "outputs": [],
   "source": [
    "def predict(x, params):\n",
    "    AL, cache = fwdmodel(x, params)\n",
    "    predictions = AL >= 0.5\n",
    "    return AL, predictions"
   ]
  },
  {
   "cell_type": "code",
   "execution_count": 25,
   "metadata": {},
   "outputs": [
    {
     "name": "stdout",
     "output_type": "stream",
     "text": [
      "Accuracy: 93%\n"
     ]
    }
   ],
   "source": [
    "AL, predictions = predict(xt,params)\n",
    "print ('Accuracy: %d' % float((np.dot(yt,predictions.T) + np.dot(1-yt,1-predictions.T))/float(yt.size)*100)+ '%')\n",
    "predictions = predictions.astype('int')"
   ]
  }
 ],
 "metadata": {
  "kernelspec": {
   "display_name": "Python 3",
   "language": "python",
   "name": "python3"
  },
  "language_info": {
   "codemirror_mode": {
    "name": "ipython",
    "version": 3
   },
   "file_extension": ".py",
   "mimetype": "text/x-python",
   "name": "python",
   "nbconvert_exporter": "python",
   "pygments_lexer": "ipython3",
   "version": "3.8.3"
  }
   },
 "nbformat": 4,
 "nbformat_minor": 4
}
